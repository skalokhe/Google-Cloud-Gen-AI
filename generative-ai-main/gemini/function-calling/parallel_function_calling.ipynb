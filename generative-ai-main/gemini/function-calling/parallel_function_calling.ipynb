{
 "cells": [
  {
   "cell_type": "code",
   "execution_count": null,
   "metadata": {
    "id": "ijGzTHJJUCPY",
    "tags": []
   },
   "outputs": [],
   "source": [
    "# Copyright 2024 Google LLC\n",
    "#\n",
    "# Licensed under the Apache License, Version 2.0 (the \"License\");\n",
    "# you may not use this file except in compliance with the License.\n",
    "# You may obtain a copy of the License at\n",
    "#\n",
    "#     https://www.apache.org/licenses/LICENSE-2.0\n",
    "#\n",
    "# Unless required by applicable law or agreed to in writing, software\n",
    "# distributed under the License is distributed on an \"AS IS\" BASIS,\n",
    "# WITHOUT WARRANTIES OR CONDITIONS OF ANY KIND, either express or implied.\n",
    "# See the License for the specific language governing permissions and\n",
    "# limitations under the License."
   ]
  },
  {
   "cell_type": "markdown",
   "metadata": {
    "id": "VEqbX8OhE8y9"
   },
   "source": [
    "# Working with Parallel Function Calls and Multiple Function Responses in Gemini\n",
    "\n",
    "<table align=\"left\">\n",
    "  <td style=\"text-align: center\">\n",
    "    <a href=\"https://colab.research.google.com/github/GoogleCloudPlatform/generative-ai/blob/main/gemini/function-calling/parallel_function_calling.ipynb\">\n",
    "      <img src=\"https://cloud.google.com/ml-engine/images/colab-logo-32px.png\" alt=\"Google Colaboratory logo\"><br> Open in Colab\n",
    "    </a>\n",
    "  </td>\n",
    "  <td style=\"text-align: center\">\n",
    "    <a href=\"https://console.cloud.google.com/vertex-ai/colab/import/https:%2F%2Fraw.githubusercontent.com%2FGoogleCloudPlatform%2Fgenerative-ai%2Fmain%2Fgemini%2Ffunction-calling%2Fparallel_function_calling.ipynb\">\n",
    "      <img width=\"32px\" src=\"https://lh3.googleusercontent.com/JmcxdQi-qOpctIvWKgPtrzZdJJK-J3sWE1RsfjZNwshCFgE_9fULcNpuXYTilIR2hjwN\" alt=\"Google Cloud Colab Enterprise logo\"><br> Open in Colab Enterprise\n",
    "    </a>\n",
    "  </td>    \n",
    "  <td style=\"text-align: center\">\n",
    "    <a href=\"https://console.cloud.google.com/vertex-ai/workbench/deploy-notebook?download_url=https://raw.githubusercontent.com/GoogleCloudPlatform/generative-ai/main/gemini/function-calling/parallel_function_calling.ipynb\">\n",
    "      <img src=\"https://lh3.googleusercontent.com/UiNooY4LUgW_oTvpsNhPpQzsstV5W8F7rYgxgGBD85cWJoLmrOzhVs_ksK_vgx40SHs7jCqkTkCk=e14-rj-sc0xffffff-h130-w32\" alt=\"Vertex AI logo\"><br> Open in Workbench\n",
    "    </a>\n",
    "  </td>\n",
    "  <td style=\"text-align: center\">\n",
    "    <a href=\"https://github.com/GoogleCloudPlatform/generative-ai/blob/main/gemini/function-calling/parallel_function_calling.ipynb\">\n",
    "      <img src=\"https://cloud.google.com/ml-engine/images/github-logo-32px.png\" alt=\"GitHub logo\"><br> View on GitHub\n",
    "    </a>\n",
    "  </td>\n",
    "</table>"
   ]
  },
  {
   "cell_type": "markdown",
   "metadata": {
    "id": "ZNJC1SkrsJY3"
   },
   "source": [
    "| | |\n",
    "|-|-|\n",
    "|Author(s) | [Kristopher Overholt](https://github.com/koverholt) |"
   ]
  },
  {
   "cell_type": "markdown",
   "metadata": {
    "id": "CkHPv2myT2cx"
   },
   "source": [
    "## Overview\n",
    "\n",
    "Gemini is a family of generative AI models developed by Google DeepMind that is designed for multimodal use cases. The Gemini API gives you access to the Gemini Pro and Gemini Pro Vision models.\n",
    "\n",
    "[Function Calling](https://cloud.google.com/vertex-ai/docs/generative-ai/multimodal/function-calling) in Gemini lets you create a description of a function in your code, then pass that description to a language model in a request. The response from the model includes the name of a function that matches the description and the arguments to call it with.\n",
    "\n",
    "In this tutorial, you'll learn how to work with parallel function calling within Gemini Function Calling, including:\n",
    "    \n",
    "- Handling parallel function calls for repeated functions\n",
    "- Working with parallel function calls across multiple functions\n",
    "- Extracting multiple function calls from a Gemini response\n",
    "- Calling multiple functions and returning them to Gemini\n",
    "\n",
    "### What is parallel function calling?\n",
    "\n",
    "In previous versions of the Gemini Pro models (prior to May 2024), Gemini would return two or more chained function calls if the model determined that more than one function call was needed before returning a natural language summary. Here, a chained function call means that you get the first function call response, return the API data to Gemini, get a second function call response, return the API data to Gemini, and so on.\n",
    "\n",
    "In recent versions of specific Gemini Pro models (from May 2024 and on), Gemini has the ability to return two or more function calls in parallel (i.e., two or more function call responses within the first function call response object). Parallel function calling allows you to fan out and parallelize your API calls or other actions that you perform in your application code, so you don't have to work through each function call response and return one-by-one! Refer to the [Gemini Function Calling documentation](https://cloud.google.com/vertex-ai/generative-ai/docs/multimodal/function-calling) for more information on which Gemini model versions support parallel function calling.\n",
    "\n",
    "\n",
    "<img src=\"https://storage.googleapis.com/github-repo/generative-ai/gemini/function-calling/parallel-function-calling-in-gemini.png\">"
   ]
  },
  {
   "cell_type": "markdown",
   "metadata": {
    "id": "r11Gu7qNgx1p"
   },
   "source": [
    "## Getting Started\n"
   ]
  },
  {
   "cell_type": "markdown",
   "metadata": {
    "id": "No17Cw5hgx12"
   },
   "source": [
    "### Install Vertex AI SDK and other required packages"
   ]
  },
  {
   "cell_type": "code",
   "execution_count": 1,
   "metadata": {
    "id": "tFy3H3aPgx12",
    "tags": []
   },
   "outputs": [],
   "source": [
    "!pip3 install --upgrade --user --quiet google-cloud-aiplatform wikipedia"
   ]
  },
  {
   "cell_type": "markdown",
   "metadata": {
    "id": "R5Xep4W9lq-Z"
   },
   "source": [
    "### Restart runtime\n",
    "\n",
    "To use the newly installed packages in this Jupyter runtime, you must restart the runtime. You can do this by running the cell below, which restarts the current kernel.\n",
    "\n",
    "The restart might take a minute or longer. After it's restarted, continue to the next step."
   ]
  },
  {
   "cell_type": "code",
   "execution_count": 2,
   "metadata": {
    "id": "XRvKdaPDTznN",
    "tags": []
   },
   "outputs": [],
   "source": [
    "import IPython\n",
    "\n",
    "app = IPython.Application.instance()\n",
    "app.kernel.do_shutdown(True)"
   ]
  },
  {
   "cell_type": "markdown",
   "metadata": {
    "id": "SbmM4z7FOBpM"
   },
   "source": [
    "<div class=\"alert alert-block alert-warning\">\n",
    "<b>⚠️ The kernel is going to restart. Please wait until it is finished before continuing to the next step. ⚠️</b>\n",
    "</div>\n",
    "\n"
   ]
  },
  {
   "cell_type": "markdown",
   "metadata": {
    "id": "dmWOrTJ3gx13"
   },
   "source": [
    "### Authenticate your notebook environment (Colab only)\n",
    "\n",
    "If you are running this notebook on Google Colab, run the cell below to authenticate your environment."
   ]
  },
  {
   "cell_type": "code",
   "execution_count": 3,
   "metadata": {
    "id": "NyKGtVQjgx13",
    "tags": []
   },
   "outputs": [],
   "source": [
    "import sys\n",
    "\n",
    "if \"google.colab\" in sys.modules:\n",
    "    from google.colab import auth\n",
    "\n",
    "    auth.authenticate_user()"
   ]
  },
  {
   "cell_type": "markdown",
   "metadata": {
    "id": "DF4l8DTdWgPY"
   },
   "source": [
    "### Set Google Cloud project information and initialize Vertex AI SDK\n",
    "\n",
    "To get started using Vertex AI, you must have an existing Google Cloud project and [enable the Vertex AI API](https://console.cloud.google.com/flows/enableapi?apiid=aiplatform.googleapis.com).\n",
    "\n",
    "Learn more about [setting up a project and a development environment](https://cloud.google.com/vertex-ai/docs/start/cloud-environment)."
   ]
  },
  {
   "cell_type": "code",
   "execution_count": 4,
   "metadata": {
    "id": "Nqwi-5ufWp_B",
    "tags": []
   },
   "outputs": [],
   "source": [
    "PROJECT_ID = \"[your-project-id]\"  # @param {type:\"string\"}\n",
    "LOCATION = \"us-central1\"  # @param {type:\"string\"}\n",
    "\n",
    "import vertexai\n",
    "\n",
    "vertexai.init(project=PROJECT_ID, location=LOCATION)"
   ]
  },
  {
   "cell_type": "markdown",
   "metadata": {
    "id": "jXHfaVS66_01"
   },
   "source": [
    "## Code Examples\n",
    "\n",
    "### Import libraries"
   ]
  },
  {
   "cell_type": "code",
   "execution_count": 5,
   "metadata": {
    "id": "lslYAvw37JGQ",
    "tags": []
   },
   "outputs": [],
   "source": [
    "import wikipedia\n",
    "from IPython.display import display, Markdown\n",
    "from typing import List, Dict\n",
    "from vertexai.generative_models import (\n",
    "    FunctionDeclaration,\n",
    "    GenerativeModel,\n",
    "    GenerationConfig,\n",
    "    GenerationResponse,\n",
    "    Part,\n",
    "    Tool,\n",
    ")"
   ]
  },
  {
   "cell_type": "markdown",
   "metadata": {},
   "source": [
    "### Define helper function"
   ]
  },
  {
   "cell_type": "code",
   "execution_count": 6,
   "metadata": {},
   "outputs": [],
   "source": [
    "# Helper function to extract one or more function calls from a Gemini Function Call response\n",
    "def extract_function_calls(response: GenerationResponse) -> List[Dict]:\n",
    "    function_calls = []\n",
    "    if response.candidates[0].function_calls:\n",
    "        for function_call in response.candidates[0].function_calls:\n",
    "            function_call_dict = {function_call.name: {}}\n",
    "            for key, value in function_call.args.items():\n",
    "                function_call_dict[function_call.name][key] = value\n",
    "            function_calls.append(function_call_dict)\n",
    "    return function_calls"
   ]
  },
  {
   "cell_type": "markdown",
   "metadata": {
    "id": "j3KHAr6BsJY6"
   },
   "source": [
    "## Example: Parallel function calls on the same function\n",
    "\n",
    "A great use case for parallel function calling is when you have a function that only accepts one parameter per API call and you need to make repeated calls to that function.\n",
    "\n",
    "With Parallel Function Calling, rather than having to send N number of API requests to Gemini for N number function calls, instead you can send a single API request to Gemini, receive N number of Function Call Responses within a single response, make N number of external API calls in your code, then return all of the API responses to Gemini in bulk. And you can do all of this without any extra configuration in your function declarations, tools, or requests to Gemini.\n",
    "\n",
    "In this example, you'll do exactly that and use Parallel Function Calling in Gemini to ask about multiple topics on [Wikipedia](https://www.wikipedia.org/). Let's get started!\n",
    "\n",
    "### Write function declarations and wrap them in a tool\n",
    "\n",
    "First, define your function declarations and tool using the Vertex AI Python SDK:"
   ]
  },
  {
   "cell_type": "code",
   "execution_count": 7,
   "metadata": {},
   "outputs": [],
   "source": [
    "search_wikipedia = FunctionDeclaration(\n",
    "    name=\"search_wikipedia\",\n",
    "    description=\"Search for articles on Wikipedia\",\n",
    "    parameters={\n",
    "        \"type\": \"object\",\n",
    "        \"properties\": {\n",
    "            \"query\": {\n",
    "                \"type\": \"string\",\n",
    "                \"description\": \"Query to search for on Wikipedia\",\n",
    "            },\n",
    "        },\n",
    "    },\n",
    ")\n",
    "\n",
    "wikipedia_tool = Tool(\n",
    "    function_declarations=[\n",
    "        search_wikipedia,\n",
    "    ],\n",
    ")"
   ]
  },
  {
   "cell_type": "markdown",
   "metadata": {},
   "source": [
    "### Initialize the Gemini model\n",
    "\n",
    "Now you can initialize Gemini using a [model version that supports parallel function calling](https://cloud.google.com/vertex-ai/generative-ai/docs/multimodal/function-calling):"
   ]
  },
  {
   "cell_type": "code",
   "execution_count": 8,
   "metadata": {},
   "outputs": [],
   "source": [
    "model = GenerativeModel(\n",
    "    \"gemini-1.5-pro-001\",\n",
    "    generation_config=GenerationConfig(temperature=0),\n",
    "    tools=[wikipedia_tool],\n",
    ")\n",
    "chat = model.start_chat()"
   ]
  },
  {
   "cell_type": "markdown",
   "metadata": {},
   "source": [
    "### Send prompt to Gemini\n",
    "\n",
    "Send a prompt to Gemini that includes a phrase that you expect to invoke two or more function calls.\n",
    "\n",
    "In this case we'll ask about three different article topics to search for on Wikipedia:"
   ]
  },
  {
   "cell_type": "code",
   "execution_count": 9,
   "metadata": {
    "id": "aD4UJ6BcsJY6",
    "outputId": "5db50fd0-8a27-4980-d79e-65c593411c4c",
    "scrolled": true
   },
   "outputs": [],
   "source": [
    "prompt = \"Search for articles related to solar panels, renewable energy, and battery storage and provide a summary of your findings\"\n",
    "\n",
    "response = chat.send_message(prompt)"
   ]
  },
  {
   "cell_type": "markdown",
   "metadata": {},
   "source": [
    "### Extract function names and parameters\n",
    "\n",
    "Use the helper function that we created earlier to extract the function names and function parameters for each Function Call that Gemini responded with:"
   ]
  },
  {
   "cell_type": "code",
   "execution_count": 10,
   "metadata": {},
   "outputs": [
    {
     "data": {
      "text/plain": [
       "[{'search_wikipedia': {'query': 'Solar panels'}},\n",
       " {'search_wikipedia': {'query': 'Renewable energy'}},\n",
       " {'search_wikipedia': {'query': 'Battery storage'}}]"
      ]
     },
     "execution_count": 10,
     "metadata": {},
     "output_type": "execute_result"
    }
   ],
   "source": [
    "function_calls = extract_function_calls(response)\n",
    "function_calls"
   ]
  },
  {
   "cell_type": "markdown",
   "metadata": {},
   "source": [
    "Note that the helper function is just one way to extract fields from the structured Function Call response. You can modify the helper function or write your own custom code to extract and get the fields into your preferred format or data structure!\n",
    "\n",
    "### Make external API calls\n",
    "\n",
    "Next, you'll loop through the Function Calls and use the `wikipedia` Python package to make an API call for each search query:"
   ]
  },
  {
   "cell_type": "code",
   "execution_count": 11,
   "metadata": {},
   "outputs": [
    {
     "name": "stdout",
     "output_type": "stream",
     "text": [
      "{'search_wikipedia': {'query': 'Solar panels'}}\n",
      "{'search_wikipedia': {'query': 'Renewable energy'}}\n",
      "{'search_wikipedia': {'query': 'Battery storage'}}\n"
     ]
    }
   ],
   "source": [
    "api_response = []\n",
    "\n",
    "# Loop over multiple function calls\n",
    "for function_call in function_calls:\n",
    "    print(function_call)\n",
    "\n",
    "    # Make external API call\n",
    "    result = wikipedia.summary(function_call[\"search_wikipedia\"][\"query\"])\n",
    "\n",
    "    # Collect all API responses\n",
    "    api_response.append(result)"
   ]
  },
  {
   "cell_type": "markdown",
   "metadata": {},
   "source": [
    "### Get a natural language summary\n",
    "\n",
    "Now you can return all of the API responses to Gemini so that it can generate a natural language summary:"
   ]
  },
  {
   "cell_type": "code",
   "execution_count": 12,
   "metadata": {
    "scrolled": true
   },
   "outputs": [
    {
     "data": {
      "text/markdown": [
       "Solar panels are devices that convert sunlight into electricity using photovoltaic cells. They are arranged in arrays and systems, often found in solar farms or on rooftops. Solar panels offer a renewable and clean energy source, reducing greenhouse gas emissions and lowering electricity bills. However, they depend on sunlight availability, require cleaning, and have high initial costs.\n",
       "\n",
       "Renewable energy encompasses sources like solar, wind, hydro, bioenergy, and geothermal, replenished on a human timescale. These sources contribute to climate change mitigation, energy security, and economic benefits. Renewable energy systems are becoming more efficient and affordable, leading to increased global adoption. However, challenges include fossil fuel subsidies and debates surrounding geopolitics, material extraction, and sustainability.\n",
       "\n",
       "Battery storage power stations utilize batteries to store electrical energy, providing rapid response to grid stabilization needs. They offer short-term peak power and ancillary services, minimizing power outages. While their capacity is currently smaller than pumped-storage hydropower, battery storage is rapidly growing due to its cost-effectiveness and flexibility. Advancements in battery technology continue to drive down costs and increase storage capacity. \n"
      ],
      "text/plain": [
       "<IPython.core.display.Markdown object>"
      ]
     },
     "metadata": {},
     "output_type": "display_data"
    }
   ],
   "source": [
    "# Return the API response to Gemini\n",
    "response = chat.send_message(\n",
    "    Part.from_function_response(\n",
    "        name=\"search_wikipedia\",\n",
    "        response={\n",
    "            \"content\": api_response,\n",
    "        },\n",
    "    ),\n",
    ")\n",
    "display(Markdown(response.text))"
   ]
  },
  {
   "cell_type": "markdown",
   "metadata": {},
   "source": [
    "And you're done with no extra configuration necessary!\n",
    "\n",
    "Note that Gemini will use the information in your `FunctionDeclarations` to determine if and when it should return parallel Function Call responses, or it will determine which Function Calls need to be made before others to get information that a subsequent Function Call depends on. So be sure to account for this behavior in your logic and application code!"
   ]
  },
  {
   "cell_type": "markdown",
   "metadata": {
    "id": "j3KHAr6BsJY6"
   },
   "source": [
    "## Example: Parallel function calls across multiple functions\n",
    "\n",
    "Another good fit for parallel function calling is when you have multiple, independent functions that you want to be able to call in parallel, which reduces the number of consecutive Gemini API calls that you need to make and (ideally) reduces the overall response time to the end user who is waiting for a natural language response.\n",
    "\n",
    "In this example, you'll use Parallel Function Calling in Gemini to ask about multiple aspects of topics and articles on [Wikipedia](https://www.wikipedia.org/).\n",
    "\n",
    "### Write function declarations and wrap them in a tool\n",
    "\n",
    "First, define your function declarations and tool using the Vertex AI Python SDK:"
   ]
  },
  {
   "cell_type": "code",
   "execution_count": 13,
   "metadata": {},
   "outputs": [],
   "source": [
    "search_wikipedia = FunctionDeclaration(\n",
    "    name=\"search_wikipedia\",\n",
    "    description=\"Search for articles on Wikipedia\",\n",
    "    parameters={\n",
    "        \"type\": \"object\",\n",
    "        \"properties\": {\n",
    "            \"query\": {\n",
    "                \"type\": \"string\",\n",
    "                \"description\": \"Query to search for on Wikipedia\",\n",
    "            },\n",
    "        },\n",
    "    },\n",
    ")\n",
    "\n",
    "suggest_wikipedia = FunctionDeclaration(\n",
    "    name=\"suggest_wikipedia\",\n",
    "    description=\"Get suggested titles from Wikipedia for a given term\",\n",
    "    parameters={\n",
    "        \"type\": \"object\",\n",
    "        \"properties\": {\n",
    "            \"query\": {\n",
    "                \"type\": \"string\",\n",
    "                \"description\": \"Query to search for suggested titles on Wikipedia\",\n",
    "            },\n",
    "        },\n",
    "    },\n",
    ")\n",
    "\n",
    "summarize_wikipedia = FunctionDeclaration(\n",
    "    name=\"summarize_wikipedia\",\n",
    "    description=\"Get article summaries from Wikipedia\",\n",
    "    parameters={\n",
    "        \"type\": \"object\",\n",
    "        \"properties\": {\n",
    "            \"topic\": {\n",
    "                \"type\": \"string\",\n",
    "                \"description\": \"Query to search for article summaries on Wikipedia\",\n",
    "            },\n",
    "        },\n",
    "    },\n",
    ")\n",
    "\n",
    "wikipedia_tool = Tool(\n",
    "    function_declarations=[\n",
    "        search_wikipedia,\n",
    "        suggest_wikipedia,\n",
    "        summarize_wikipedia,\n",
    "    ],\n",
    ")"
   ]
  },
  {
   "cell_type": "markdown",
   "metadata": {},
   "source": [
    "### Initialize the Gemini model\n",
    "\n",
    "Now you can initialize Gemini using a [model version that supports parallel function calling](https://cloud.google.com/vertex-ai/generative-ai/docs/multimodal/function-calling):"
   ]
  },
  {
   "cell_type": "code",
   "execution_count": 14,
   "metadata": {},
   "outputs": [],
   "source": [
    "model = GenerativeModel(\n",
    "    \"gemini-1.5-pro-001\",\n",
    "    generation_config=GenerationConfig(temperature=0),\n",
    "    tools=[wikipedia_tool],\n",
    ")\n",
    "chat = model.start_chat()"
   ]
  },
  {
   "cell_type": "markdown",
   "metadata": {},
   "source": [
    "### Send prompt to Gemini\n",
    "\n",
    "Send a prompt to Gemini that includes a phrase that you expect to invoke two or more function calls.\n",
    "\n",
    "In this case we'll ask about three types of details to look up for a given topic on Wikipedia:"
   ]
  },
  {
   "cell_type": "code",
   "execution_count": 15,
   "metadata": {
    "id": "aD4UJ6BcsJY6",
    "outputId": "5db50fd0-8a27-4980-d79e-65c593411c4c",
    "scrolled": true
   },
   "outputs": [],
   "source": [
    "prompt = \"Show the search results, variations, and article summaries about Wikipedia articles related to the solar system\"\n",
    "\n",
    "response = chat.send_message(prompt)"
   ]
  },
  {
   "cell_type": "markdown",
   "metadata": {},
   "source": [
    "### Extract function names and parameters\n",
    "\n",
    "Use the helper function that we created earlier to extract the function names and function parameters for each Function Call that Gemini responded with:"
   ]
  },
  {
   "cell_type": "code",
   "execution_count": 16,
   "metadata": {},
   "outputs": [
    {
     "data": {
      "text/plain": [
       "[{'search_wikipedia': {'query': 'Solar System'}},\n",
       " {'suggest_wikipedia': {'query': 'Solar System'}},\n",
       " {'summarize_wikipedia': {'topic': 'Solar System'}}]"
      ]
     },
     "execution_count": 16,
     "metadata": {},
     "output_type": "execute_result"
    }
   ],
   "source": [
    "function_calls = extract_function_calls(response)\n",
    "function_calls"
   ]
  },
  {
   "cell_type": "markdown",
   "metadata": {},
   "source": [
    "### Make external API calls\n",
    "\n",
    "Next, you'll loop through the Function Calls and use the `wikipedia` Python package to make APIs calls and gather information from Wikipedia:"
   ]
  },
  {
   "cell_type": "code",
   "execution_count": 17,
   "metadata": {},
   "outputs": [
    {
     "name": "stdout",
     "output_type": "stream",
     "text": [
      "{'search_wikipedia': {'query': 'Solar System'}}\n",
      "{'suggest_wikipedia': {'query': 'Solar System'}}\n",
      "{'summarize_wikipedia': {'topic': 'Solar System'}}\n"
     ]
    }
   ],
   "source": [
    "api_response = {}\n",
    "\n",
    "# Loop over multiple function calls\n",
    "for function_call in function_calls:\n",
    "    # Extract the function name\n",
    "    print(function_call)\n",
    "    for key in function_call:\n",
    "        function_name = key\n",
    "\n",
    "    # Determine which external API call to make\n",
    "    if function_name == \"search_wikipedia\":\n",
    "        result = wikipedia.search(function_call[\"search_wikipedia\"][\"query\"])\n",
    "    if function_name == \"suggest_wikipedia\":\n",
    "        result = wikipedia.suggest(function_call[\"suggest_wikipedia\"][\"query\"])\n",
    "    if function_name == \"summarize_wikipedia\":\n",
    "        result = wikipedia.summary(\n",
    "            function_call[\"summarize_wikipedia\"][\"topic\"], auto_suggest=False\n",
    "        )\n",
    "\n",
    "    # Collect all API responses\n",
    "    api_response[function_name] = result"
   ]
  },
  {
   "cell_type": "markdown",
   "metadata": {},
   "source": [
    "### Get a natural language summary\n",
    "\n",
    "Now you can return all of the API responses to Gemini so that it can generate a natural language summary:"
   ]
  },
  {
   "cell_type": "code",
   "execution_count": 18,
   "metadata": {
    "scrolled": true
   },
   "outputs": [
    {
     "data": {
      "text/markdown": [
       "I found the following Wikipedia information on the Solar System:\n",
       "\n",
       "Search results: \n",
       "- Solar System\n",
       "- Formation and evolution of the Solar System\n",
       "- List of Solar System objects by size\n",
       "- List of Solar System objects\n",
       "- Solar System belts\n",
       "- Solar wind\n",
       "- Solar System (disambiguation)\n",
       "- Passive solar building design\n",
       "- Photovoltaic system\n",
       "- Solar System model\n",
       "\n",
       "Variations: \n",
       "- soler system\n",
       "\n",
       "Summary: \n",
       "The Solar System is the gravitationally bound system of the Sun and the objects that orbit it. It was formed 4.6 billion years ago. The Sun is an ordinary main sequence star. The largest objects that orbit the Sun are the eight planets: Mercury, Venus, Earth, Mars, Jupiter, Saturn, Uranus, and Neptune.  There is a strong consensus among astronomers that the Solar System has at least eight dwarf planets: Ceres, Pluto, Haumea, Quaoar, Makemake, Gonggong, Eris, and Sedna. There are also a vast number of small Solar System bodies, such as asteroids, comets, centaurs, meteoroids, and interplanetary dust clouds. \n"
      ],
      "text/plain": [
       "<IPython.core.display.Markdown object>"
      ]
     },
     "metadata": {},
     "output_type": "display_data"
    }
   ],
   "source": [
    "# Return the API response to Gemini\n",
    "response = chat.send_message(\n",
    "    Part.from_function_response(\n",
    "        name=\"search_wikipedia\",\n",
    "        response={\n",
    "            \"content\": api_response,\n",
    "        },\n",
    "    ),\n",
    ")\n",
    "\n",
    "display(Markdown(response.text))"
   ]
  },
  {
   "cell_type": "markdown",
   "metadata": {
    "id": "GpDvGrmtsJY8"
   },
   "source": [
    "And you're done! You successfully made parallel function calls for a couple of different use cases. Feel free to adapt the code samples here for your own use cases and applications. Or try another notebook to continue exploring other functionality in the Gemini API.\n",
    "\n",
    "Happy parallel function calling!"
   ]
  }
 ],
 "metadata": {
  "colab": {
   "provenance": [],
   "toc_visible": true
  },
  "environment": {
   "kernel": "conda-root-py",
   "name": "workbench-notebooks.m115",
   "type": "gcloud",
   "uri": "gcr.io/deeplearning-platform-release/workbench-notebooks:m115"
  },
  "kernelspec": {
   "display_name": "Python 3 (ipykernel)",
   "language": "python",
   "name": "python3"
  },
  "language_info": {
   "codemirror_mode": {
    "name": "ipython",
    "version": 3
   },
   "file_extension": ".py",
   "mimetype": "text/x-python",
   "name": "python",
   "nbconvert_exporter": "python",
   "pygments_lexer": "ipython3",
   "version": "3.11.8"
  }
 },
 "nbformat": 4,
 "nbformat_minor": 4
}
